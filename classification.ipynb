{
 "cells": [
  {
   "cell_type": "markdown",
   "id": "77a78f2d",
   "metadata": {},
   "source": [
    "### Step 2: Format for Training\n",
    "Convert each row into a classifier input by highlighting the entities.\n",
    "\n",
    "Example input format:\n",
    "\"[E1] Diabetes [/E1] is a known risk factor for [E2] Alzheimer's [/E2].\""
   ]
  },
  {
   "cell_type": "code",
   "execution_count": 3,
   "id": "64148d1d",
   "metadata": {},
   "outputs": [],
   "source": [
    "import pandas as pd\n",
    "\n",
    "\n",
    "df = pd.read_csv(\"alz_disease_pairs_for_annotation.csv\", encoding='ISO-8859-1')\n",
    "\n",
    "\n",
    "def mark_entities(row):\n",
    "    text = row[\"sentence\"]\n",
    "    e1 = row[\"entity_1\"]\n",
    "    e2 = row[\"entity_2\"]\n",
    "    # Replace first match of each entity with markers\n",
    "    text = text.replace(e1, f\"[E1] {e1} [/E1]\", 1)\n",
    "    text = text.replace(e2, f\"[E2] {e2} [/E2]\", 1)\n",
    "    return text\n",
    "\n",
    "df[\"input_text\"] = df.apply(mark_entities, axis=1)\n"
   ]
  },
  {
   "cell_type": "code",
   "execution_count": 6,
   "id": "48223a57",
   "metadata": {},
   "outputs": [
    {
     "name": "stdout",
     "output_type": "stream",
     "text": [
      "0          Exploring emotion recognition in patients with mild cognitive impairment and \\nAlzheimer's [E2] dementia [/E2] undergoing a rehabilitation program emotion recognition in \\npatients with dementia.\n",
      "1          Exploring emotion recognition in patients with mild [E2] cognitive impairment [/E2] and \\nAlzheimer's dementia undergoing a rehabilitation program emotion recognition in \\npatients with dementia.\n",
      "2               AIM: This study aimed to explore differences in the emotions of patients with \\nmild cognitive impairment (MCI) and Alzheimer's dementia (AD) in group \\nrehabilitation using facial analysis.\n",
      "3    AIM: This study aimed to explore differences in the emotions of patients with \\nmild [E2] cognitive impairment [/E2] (MCI) and Alzheimer's dementia (AD) in group \\nrehabilitation using facial analysis.\n",
      "4               AIM: This study aimed to explore differences in the emotions of patients with \\nmild cognitive impairment (MCI) and Alzheimer's dementia (AD) in group \\nrehabilitation using facial analysis.\n",
      "Name: input_text, dtype: object\n"
     ]
    }
   ],
   "source": [
    "pd.set_option('display.max_colwidth', None)\n",
    "print(df[\"input_text\"].head())  # Shows first 5 rows"
   ]
  }
 ],
 "metadata": {
  "kernelspec": {
   "display_name": "base",
   "language": "python",
   "name": "python3"
  },
  "language_info": {
   "codemirror_mode": {
    "name": "ipython",
    "version": 3
   },
   "file_extension": ".py",
   "mimetype": "text/x-python",
   "name": "python",
   "nbconvert_exporter": "python",
   "pygments_lexer": "ipython3",
   "version": "3.12.4"
  }
 },
 "nbformat": 4,
 "nbformat_minor": 5
}

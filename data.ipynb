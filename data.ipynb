{
 "cells": [
  {
   "cell_type": "code",
   "execution_count": null,
   "id": "a64552bb",
   "metadata": {},
   "outputs": [
    {
     "name": "stdout",
     "output_type": "stream",
     "text": [
      "Collecting biopython\n",
      "  Downloading biopython-1.85-cp312-cp312-win_amd64.whl.metadata (13 kB)\n",
      "Requirement already satisfied: numpy in c:\\users\\annie\\anaconda3\\lib\\site-packages (from biopython) (1.26.4)\n",
      "Downloading biopython-1.85-cp312-cp312-win_amd64.whl (2.8 MB)\n",
      "   ---------------------------------------- 0.0/2.8 MB ? eta -:--:--\n",
      "   ---------------------------------------- 2.8/2.8 MB 32.8 MB/s eta 0:00:00\n",
      "Installing collected packages: biopython\n",
      "Successfully installed biopython-1.85\n",
      "Note: you may need to restart the kernel to use updated packages.\n"
     ]
    }
   ],
   "source": [
    "pip install biopython"
   ]
  },
  {
   "cell_type": "markdown",
   "id": "c25ecf9b",
   "metadata": {},
   "source": [
    "# Project Idea: Relation Extraction on PubMed Articles About Alzheimer's Disease\n",
    "\n",
    "## 🎯 Objective:\n",
    "Extract and categorize relationships from PubMed abstracts or full-texts related to Alzheimer's disease."
   ]
  },
  {
   "cell_type": "markdown",
   "id": "03f6a6a0",
   "metadata": {},
   "source": [
    "Fetch PubMed Abstracts"
   ]
  },
  {
   "cell_type": "code",
   "execution_count": 1,
   "id": "0cde8810",
   "metadata": {},
   "outputs": [
    {
     "name": "stdout",
     "output_type": "stream",
     "text": [
      "Found 100 articles for query: 'Alzheimer's disease'\n"
     ]
    }
   ],
   "source": [
    "from Bio import Entrez\n",
    "from time import sleep\n",
    "\n",
    "# Set your email — this is required by NCBI\n",
    "Entrez.email = \"your_email@example.com\"\n",
    "\n",
    "def fetch_pubmed_abstracts(query, max_results=100):\n",
    "    # Search PubMed\n",
    "    handle = Entrez.esearch(db=\"pubmed\", term=query, retmax=max_results)\n",
    "    record = Entrez.read(handle)\n",
    "    handle.close()\n",
    "\n",
    "    id_list = record[\"IdList\"]\n",
    "    print(f\"Found {len(id_list)} articles for query: '{query}'\")\n",
    "\n",
    "    abstracts = []\n",
    "    for pmid in id_list:\n",
    "        try:\n",
    "            # Fetch article metadata\n",
    "            fetch_handle = Entrez.efetch(db=\"pubmed\", id=pmid, rettype=\"abstract\", retmode=\"text\")\n",
    "            abstract_text = fetch_handle.read()\n",
    "            abstracts.append((pmid, abstract_text))\n",
    "            fetch_handle.close()\n",
    "            sleep(0.5)  # Be kind to NCBI servers\n",
    "        except Exception as e:\n",
    "            print(f\"Error fetching PMID {pmid}: {e}\")\n",
    "            continue\n",
    "\n",
    "    return abstracts\n",
    "\n",
    "# Run the script\n",
    "query = \"Alzheimer's disease\"\n",
    "abstracts = fetch_pubmed_abstracts(query, max_results=100)\n",
    "\n",
    "# Save to file\n",
    "with open(\"alzheimers_pubmed_abstracts.txt\", \"w\", encoding=\"utf-8\") as f:\n",
    "    for pmid, abstract in abstracts:\n",
    "        f.write(f\"PMID: {pmid}\\n\")\n",
    "        f.write(abstract + \"\\n\\n\")\n"
   ]
  },
  {
   "cell_type": "markdown",
   "id": "a63687f4",
   "metadata": {},
   "source": [
    "### Step 1: NER (Entity Detection)\n",
    "Use SciSpacy or BioBERT to find:\n",
    "\n",
    "- DISEASE (e.g., Alzheimer’s)"
   ]
  },
  {
   "cell_type": "code",
   "execution_count": 4,
   "id": "22d3da34",
   "metadata": {},
   "outputs": [],
   "source": [
    "import spacy\n",
    "\n",
    "nlp = spacy.load(\"en_core_web_sm\")\n",
    "\n",
    "def split_sentences(text):\n",
    "    doc = nlp(text)\n",
    "    return [sent.text.strip() for sent in doc.sents]\n"
   ]
  },
  {
   "cell_type": "code",
   "execution_count": 6,
   "id": "7e995dc4",
   "metadata": {},
   "outputs": [
    {
     "name": "stdout",
     "output_type": "stream",
     "text": [
      "Total sentences: 2534\n"
     ]
    }
   ],
   "source": [
    "with open(\"alzheimers_pubmed_abstracts.txt\", \"r\", encoding=\"utf-8\") as f:\n",
    "    abstracts = f.read().split(\"PMID:\")\n",
    "\n",
    "all_sentences = []\n",
    "for entry in abstracts:\n",
    "    if entry.strip():\n",
    "        text = entry.strip().split(\"\\n\", 1)[-1]\n",
    "        sentences = split_sentences(text)\n",
    "        all_sentences.extend(sentences)\n",
    "\n",
    "print(\"Total sentences:\", len(all_sentences))\n"
   ]
  },
  {
   "cell_type": "code",
   "execution_count": 18,
   "id": "b66a3c50",
   "metadata": {},
   "outputs": [
    {
     "name": "stderr",
     "output_type": "stream",
     "text": [
      "c:\\Users\\Annie\\anaconda3\\Lib\\site-packages\\spacy\\language.py:2195: FutureWarning: Possible set union at position 6328\n",
      "  deserializers[\"tokenizer\"] = lambda p: self.tokenizer.from_disk(  # type: ignore[union-attr]\n"
     ]
    }
   ],
   "source": [
    "from scispacy.abbreviation import AbbreviationDetector\n",
    "\n",
    "nlp = spacy.load(\"en_ner_bc5cdr_md\")\n",
    "nlp.add_pipe(\"abbreviation_detector\")\n",
    "\n",
    "def get_disease_entities(text):\n",
    "    doc = nlp(text)\n",
    "    return [ent.text for ent in doc.ents if ent.label_ == \"DISEASE\"]\n",
    "\n"
   ]
  },
  {
   "cell_type": "code",
   "execution_count": 22,
   "id": "c93d4b1f",
   "metadata": {},
   "outputs": [],
   "source": [
    "def normalize_disease_name(name):\n",
    "    name = name.lower()\n",
    "    if \"alzheimer\" in name:\n",
    "        return \"Alzheimer's disease\"\n",
    "    return name\n"
   ]
  },
  {
   "cell_type": "code",
   "execution_count": null,
   "id": "f341e5b7",
   "metadata": {},
   "outputs": [],
   "source": [
    "\n",
    "def extract_alz_related_pairs(sentence):\n",
    "    doc = nlp(sentence)\n",
    "    diseases = [normalize_disease_name(ent.text) for ent in doc.ents if ent.label_ == \"DISEASE\"]\n",
    "    \n",
    "    # Get unique lowercase disease list (for robust matching)\n",
    "    unique_diseases = list(set(diseases))\n",
    "    alz_diseases = [d for d in unique_diseases if \"alzheimer\" in d.lower()]\n",
    "    \n",
    "    pairs = []\n",
    "    for ad in alz_diseases:\n",
    "        for d in unique_diseases:\n",
    "            if d.lower() != ad.lower():\n",
    "                pairs.append((ad, d))\n",
    "    return pairs"
   ]
  },
  {
   "cell_type": "code",
   "execution_count": 10,
   "id": "e09a180c",
   "metadata": {},
   "outputs": [
    {
     "name": "stderr",
     "output_type": "stream",
     "text": [
      "c:\\Users\\Annie\\anaconda3\\Lib\\site-packages\\scispacy\\abbreviation.py:248: UserWarning: [W036] The component 'matcher' does not have any patterns defined.\n",
      "  global_matches = self.global_matcher(doc)\n"
     ]
    }
   ],
   "source": [
    "\n",
    "import csv\n",
    "output_rows = []\n",
    "\n",
    "for sent in all_sentences:\n",
    "    pairs = extract_alz_related_pairs(sent)\n",
    "    for p1, p2 in pairs:\n",
    "        output_rows.append({\n",
    "            \"sentence\": sent,\n",
    "            \"entity_1\": p1,\n",
    "            \"entity_2\": p2,\n",
    "            \"relation_label\": \"\"  # ← leave empty for annotation\n",
    "        })\n"
   ]
  },
  {
   "cell_type": "code",
   "execution_count": 11,
   "id": "417984b5",
   "metadata": {},
   "outputs": [
    {
     "name": "stdout",
     "output_type": "stream",
     "text": [
      "After deduplication: 202 pairs\n"
     ]
    }
   ],
   "source": [
    "unique_rows = set()\n",
    "deduplicated = []\n",
    "\n",
    "for row in output_rows:\n",
    "    key = (row[\"sentence\"], row[\"entity_1\"].lower(), row[\"entity_2\"].lower())\n",
    "    if key not in unique_rows:\n",
    "        unique_rows.add(key)\n",
    "        deduplicated.append(row)\n",
    "\n",
    "print(f\"After deduplication: {len(deduplicated)} pairs\")\n"
   ]
  },
  {
   "cell_type": "code",
   "execution_count": 13,
   "id": "742b782a",
   "metadata": {},
   "outputs": [
    {
     "name": "stdout",
     "output_type": "stream",
     "text": [
      "Saved 202 pairs to 'alz_disease_pairs_for_annotation.csv'\n"
     ]
    }
   ],
   "source": [
    "with open(\"alz_disease_pairs_for_annotation.csv\", \"w\", newline='', encoding=\"utf-8\") as f:\n",
    "    writer = csv.DictWriter(f, fieldnames=[\"sentence\", \"entity_1\", \"entity_2\", \"relation_label\"])\n",
    "    writer.writeheader()\n",
    "    writer.writerows(deduplicated)\n",
    "\n",
    "print(f\"Saved {len(deduplicated)} pairs to 'alz_disease_pairs_for_annotation.csv'\")"
   ]
  },
  {
   "cell_type": "markdown",
   "id": "ddbeb056",
   "metadata": {},
   "source": [
    "Add original entities back for input formatting."
   ]
  },
  {
   "cell_type": "code",
   "execution_count": 27,
   "id": "a64d156b",
   "metadata": {},
   "outputs": [
    {
     "name": "stdout",
     "output_type": "stream",
     "text": [
      "✅ Done! Original entity names added and file saved as 'alz_disease_pairs_with_original.csv'.\n"
     ]
    }
   ],
   "source": [
    "import pandas as pd\n",
    "import spacy\n",
    "\n",
    "# Load SciSpacy model\n",
    "nlp = spacy.load(\"en_ner_bc5cdr_md\")\n",
    "\n",
    "# Your normalization function\n",
    "def normalize_disease_name(name):\n",
    "    name = name.lower()\n",
    "    if \"alzheimer\" in name:\n",
    "        return \"Alzheimer's disease\"\n",
    "    return name\n",
    "\n",
    "# Load your annotated dataset\n",
    "df = pd.read_csv(\"alz_disease_pairs_for_annotation.csv\", encoding=\"ISO-8859-1\")\n",
    "\n",
    "# Initialize empty lists to store original values\n",
    "entity_1_original_list = []\n",
    "entity_2_original_list = []\n",
    "\n",
    "# Loop through each labeled row and match back original texts\n",
    "for _, row in df.iterrows():\n",
    "    sentence = row[\"sentence\"]\n",
    "    norm_e1 = row[\"entity_1\"]\n",
    "    norm_e2 = row[\"entity_2\"]\n",
    "\n",
    "    doc = nlp(sentence)\n",
    "    found_e1 = None\n",
    "    found_e2 = None\n",
    "\n",
    "    # Try to match original mentions by normalization\n",
    "    for ent in doc.ents:\n",
    "        if ent.label_ == \"DISEASE\":\n",
    "            norm_ent = normalize_disease_name(ent.text)\n",
    "            if norm_ent == norm_e1 and not found_e1:\n",
    "                found_e1 = ent.text\n",
    "            elif norm_ent == norm_e2 and not found_e2:\n",
    "                found_e2 = ent.text\n",
    "\n",
    "    entity_1_original_list.append(found_e1 if found_e1 else \"\")\n",
    "    entity_2_original_list.append(found_e2 if found_e2 else \"\")\n",
    "\n",
    "# Add new columns to your original DataFrame\n",
    "df[\"entity_1_original\"] = entity_1_original_list\n",
    "df[\"entity_2_original\"] = entity_2_original_list\n",
    "\n",
    "# Save new file\n",
    "df.to_csv(\"alz_disease_pairs_with_original.csv\", index=False, encoding=\"utf-8\")\n",
    "\n",
    "print(\"✅ Done! Original entity names added and file saved as 'alz_disease_pairs_with_original.csv'.\")\n"
   ]
  },
  {
   "cell_type": "markdown",
   "id": "d2fce095",
   "metadata": {},
   "source": [
    "### Step 2: Format for Training\n",
    "Convert each row into a classifier input by highlighting the entities.\n",
    "\n",
    "Example input format:\n",
    "\"[E1] Diabetes [/E1] is a known risk factor for [E2] Alzheimer's [/E2].\""
   ]
  },
  {
   "cell_type": "code",
   "execution_count": 43,
   "id": "b1f4bb0e",
   "metadata": {},
   "outputs": [],
   "source": [
    "import pandas as pd\n",
    "\n",
    "\n",
    "df = pd.read_csv(\"alz_disease_pairs_with_original.csv\", encoding='ISO-8859-1')\n",
    "\n",
    "\n",
    "def mark_entities(row):\n",
    "    text = row[\"sentence\"]\n",
    "    e1 = row[\"entity_1_original\"]\n",
    "    e2 = row[\"entity_2_original\"]\n",
    "    e1_norm = row[\"entity_1\"]\n",
    "    e2_norm = row[\"entity_2\"]\n",
    "    \n",
    "    if pd.isna(e1):\n",
    "        e1 = str(e1_norm)\n",
    "    else:\n",
    "        e1 = str(e1)\n",
    "\n",
    "    if pd.isna(e2):\n",
    "        e2= str(e2_norm)\n",
    "    else:\n",
    "        e2 = str(e2)\n",
    "\n",
    "\n",
    "    # Replace first match of each entity with markers\n",
    "    text = text.replace(e1, f\"[E1] {e1} [/E1]\", 1)\n",
    "    text = text.replace(e2, f\"[E2] {e2} [/E2]\", 1)\n",
    "    return text\n",
    "\n",
    "df[\"input_text\"] = df.apply(mark_entities, axis=1)"
   ]
  },
  {
   "cell_type": "code",
   "execution_count": 44,
   "id": "6b8fec9e",
   "metadata": {},
   "outputs": [
    {
     "name": "stdout",
     "output_type": "stream",
     "text": [
      "0          Exploring emotion recognition in patients with mild cognitive impairment and \\n[E1] Alzheimer's [E2] dementia [/E2] [/E1] undergoing a rehabilitation program emotion recognition in \\npatients with dementia.\n",
      "1          Exploring emotion recognition in patients with mild [E2] cognitive impairment [/E2] and \\n[E1] Alzheimer's dementia [/E1] undergoing a rehabilitation program emotion recognition in \\npatients with dementia.\n",
      "2    AIM: This study aimed to explore differences in the emotions of patients with \\nmild cognitive impairment ([E2] MCI [/E2]) and [E1] Alzheimer's dementia [/E1] (AD) in group \\nrehabilitation using facial analysis.\n",
      "3    AIM: This study aimed to explore differences in the emotions of patients with \\nmild [E2] cognitive impairment [/E2] (MCI) and [E1] Alzheimer's dementia [/E1] (AD) in group \\nrehabilitation using facial analysis.\n",
      "4    AIM: This study aimed to explore differences in the emotions of patients with \\nmild cognitive impairment (MCI) and [E1] Alzheimer's dementia [/E1] ([E2] AD [/E2]) in group \\nrehabilitation using facial analysis.\n",
      "Name: input_text, dtype: object\n"
     ]
    }
   ],
   "source": [
    "pd.set_option('display.max_colwidth', None)\n",
    "print(df[\"input_text\"].head())  # Shows first 5 rows"
   ]
  },
  {
   "cell_type": "code",
   "execution_count": 45,
   "id": "8c2342bd",
   "metadata": {},
   "outputs": [
    {
     "name": "stdout",
     "output_type": "stream",
     "text": [
      "202\n"
     ]
    }
   ],
   "source": [
    "print(len(df[\"input_text\"]))  # Total rows"
   ]
  },
  {
   "cell_type": "code",
   "execution_count": 46,
   "id": "02b1ac9f",
   "metadata": {},
   "outputs": [
    {
     "name": "stdout",
     "output_type": "stream",
     "text": [
      "❗ Rows missing [E1]: 2\n",
      "❗ Rows missing [E2]: 1\n"
     ]
    }
   ],
   "source": [
    "missing_e1 = df[~df[\"input_text\"].str.contains(r\"\\[E1\\]\", na=False)]\n",
    "missing_e2 = df[~df[\"input_text\"].str.contains(r\"\\[E2\\]\", na=False)]\n",
    "\n",
    "print(f\"❗ Rows missing [E1]: {len(missing_e1)}\")\n",
    "print(f\"❗ Rows missing [E2]: {len(missing_e2)}\")\n"
   ]
  },
  {
   "cell_type": "markdown",
   "id": "443fbc48",
   "metadata": {},
   "source": [
    "Manually format 3 missing tags sentences:"
   ]
  },
  {
   "cell_type": "code",
   "execution_count": 50,
   "id": "20a8d25e",
   "metadata": {},
   "outputs": [
    {
     "name": "stdout",
     "output_type": "stream",
     "text": [
      "\n",
      "97: The authors \n",
      "declare the following financial interests/personal relationships which may be \n",
      "considered as potential competing interests: PCD has received grant support by \n",
      "the Medical Research Council, the Lewy Body Society, AlzheimerÃ¢ÂÂs Society and \n",
      "Alzheimer's Research UK.\n",
      "Entity 1: nan\n",
      "Entity 2: PCD\n",
      "Entity 1 Normalized: Alzheimer's disease\n",
      "Entity 2 Normalized: pcd\n",
      "\n",
      "196: Ethics approval was obtained from the \n",
      "institutional review boards of each institution involved: Oregon Health and \n",
      "Science University; University of Southern California; University of \n",
      "CaliforniaÃ¢ÂÂSan Diego; University of Michigan; Mayo Clinic, Rochester; Baylor \n",
      "College of Medicine; Columbia University Medical Center; Washington University, \n",
      "St. Louis; University of Alabama at Birmingham; Mount Sinai School of Medicine; \n",
      "Rush University Medical Center; Wien Center; Johns Hopkins University; New York \n",
      "University; Duke University Medical Center; University of Pennsylvania; \n",
      "University of Kentucky; University of Pittsburgh; University of Rochester \n",
      "Medical Center; University of California, Irvine; University of Texas \n",
      "Southwestern Medical School; Emory University; University of Kansas, Medical \n",
      "Center; University of California, Los Angeles; Mayo Clinic, Jacksonville; \n",
      "Indiana University; Yale University School of Medicine; McGill University, \n",
      "Montreal-Jewish General Hospital; Sunnybrook Health Sciences, Ontario; U.B.C. \n",
      "Clinic for AD & Related Disorders; Cognitive NeurologyÃ¢ÂÂSt. JosephÃ¢ÂÂs, Ontario; \n",
      "Cleveland Clinic Lou Ruvo Center for Brain Health; Northwestern University; \n",
      "Premiere Research Inst (Palm Beach Neurology); Georgetown University Medical \n",
      "Center; Brigham and WomenÃ¢ÂÂs Hospital; Stanford University; Banner Sun Health \n",
      "Research Institute; Boston University; Howard University; Case Western Reserve \n",
      "University; University of California, DavisÃ¢ÂÂSacramento; Neurological Care of \n",
      "CNY; Parkwood Hospital; University of Wisconsin; University of California, \n",
      "IrvineÃ¢ÂÂBIC; Banner AlzheimerÃ¢ÂÂs Institute; Dent Neurologic Institute; Ohio State \n",
      "University; Albany Medical College; Hartford Hospital, Olin Neuropsychiatry \n",
      "Research Center; Dartmouth-Hitchcock Medical Center; Wake Forest University \n",
      "Health Sciences; Rhode Island Hospital; Butler Hospital; UC San Francisco; \n",
      "Medical University South Carolina; St. JosephÃ¢ÂÂs Health Care Nathan Kline \n",
      "Institute; University of Iowa College of Medicine; Cornell University and \n",
      "University of South Florida: USF Health Byrd AlzheimerÃ¢ÂÂs Institute.\n",
      "Entity 1: nan\n",
      "Entity 2: & Related Disorders\n",
      "Entity 1 Normalized: Alzheimer's disease\n",
      "Entity 2 Normalized: & related disorders\n"
     ]
    }
   ],
   "source": [
    "for idx, row in missing_e1.iterrows():\n",
    "    print(f\"\\n{idx}: {row['sentence']}\")\n",
    "    print(f\"Entity 1: {row['entity_1_original']}\")\n",
    "    print(f\"Entity 2: {row['entity_2_original']}\")\n",
    "    print(f\"Entity 1 Normalized: {row['entity_1']}\")\n",
    "    print(f\"Entity 2 Normalized: {row['entity_2']}\")\n"
   ]
  },
  {
   "cell_type": "code",
   "execution_count": 67,
   "id": "95b8e904",
   "metadata": {},
   "outputs": [
    {
     "name": "stdout",
     "output_type": "stream",
     "text": [
      "The authors declare the following financial interests/personal relationships which may be considered as potential competing interests: [E2] PCD [/E2] has received grant support by the Medical Research Council, the Lewy Body Society, [E1] Alzheimer [/E1] Ã¢ÂÂs Society and Alzheimer's Research UK.\n"
     ]
    }
   ],
   "source": [
    "df.at[97, \"input_text\"] = \"The authors declare the following financial interests/personal relationships which may be considered as potential competing interests: [E2] PCD [/E2] has received grant support by the Medical Research Council, the Lewy Body Society, [E1] Alzheimer [/E1] Ã¢ÂÂs Society and Alzheimer's Research UK.\"\n",
    "print(df.at[97, \"input_text\"])"
   ]
  },
  {
   "cell_type": "code",
   "execution_count": 51,
   "id": "92a1875a",
   "metadata": {},
   "outputs": [
    {
     "name": "stdout",
     "output_type": "stream",
     "text": [
      "\n",
      "169: Alzheimer's disease (AD) is a progressive neurodegenerative disorder \n",
      "characterized by cognitive decline and memory loss, with amyloid-beta (AÃÂ²) \n",
      "plaques and acetylcholine deficits being central pathological features.\n",
      "Entity 1: Alzheimer's disease\n",
      "Entity 2: nan\n",
      "Entity 1 Normalized: Alzheimer's disease\n",
      "Entity 2 Normalized: amyloid-beta (aÃÂ²) \n",
      "plaques and acetylcholine\n"
     ]
    }
   ],
   "source": [
    "for idx, row in missing_e2.iterrows():\n",
    "    print(f\"\\n{idx}: {row['sentence']}\")\n",
    "    print(f\"Entity 1: {row['entity_1_original']}\")\n",
    "    print(f\"Entity 2: {row['entity_2_original']}\")\n",
    "    print(f\"Entity 1 Normalized: {row['entity_1']}\")\n",
    "    print(f\"Entity 2 Normalized: {row['entity_2']}\")\n"
   ]
  },
  {
   "cell_type": "code",
   "execution_count": null,
   "id": "438d44be",
   "metadata": {},
   "outputs": [],
   "source": [
    "df.at[169, \"input_text\"] = row[\"sentence\"].replace(\"Alzheimer's disease\", \"[E1] Alzheimer's disease [/E1]\", 1).replace(\"amyloid-bet\", \"[E2] amyloid-bet [/E2]\", 1)"
   ]
  },
  {
   "cell_type": "code",
   "execution_count": 53,
   "id": "39179940",
   "metadata": {},
   "outputs": [
    {
     "name": "stdout",
     "output_type": "stream",
     "text": [
      "[E1] Alzheimer's disease [/E1] (AD) is a progressive neurodegenerative disorder \n",
      "characterized by cognitive decline and memory loss, with [E2] amyloid-bet [/E2]a (AÃÂ²) \n",
      "plaques and acetylcholine deficits being central pathological features.\n"
     ]
    }
   ],
   "source": [
    "print(df.at[169, \"input_text\"])"
   ]
  },
  {
   "cell_type": "code",
   "execution_count": 64,
   "id": "f6a379cf",
   "metadata": {},
   "outputs": [],
   "source": [
    "# Drop the row with index 196 because it cannot be fixed.\n",
    "df = df.drop(index=196).reset_index(drop=True)"
   ]
  },
  {
   "cell_type": "code",
   "execution_count": 68,
   "id": "e3d5cd2f",
   "metadata": {},
   "outputs": [
    {
     "name": "stdout",
     "output_type": "stream",
     "text": [
      "201\n"
     ]
    }
   ],
   "source": [
    "print(len(df[\"input_text\"]))  # Total rows after dropping"
   ]
  }
 ],
 "metadata": {
  "kernelspec": {
   "display_name": "base",
   "language": "python",
   "name": "python3"
  },
  "language_info": {
   "codemirror_mode": {
    "name": "ipython",
    "version": 3
   },
   "file_extension": ".py",
   "mimetype": "text/x-python",
   "name": "python",
   "nbconvert_exporter": "python",
   "pygments_lexer": "ipython3",
   "version": "3.12.4"
  }
 },
 "nbformat": 4,
 "nbformat_minor": 5
}

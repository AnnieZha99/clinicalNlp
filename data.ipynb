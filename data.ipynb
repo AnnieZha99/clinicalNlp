{
 "cells": [
  {
   "cell_type": "code",
   "execution_count": null,
   "id": "a64552bb",
   "metadata": {},
   "outputs": [
    {
     "name": "stdout",
     "output_type": "stream",
     "text": [
      "Collecting biopython\n",
      "  Downloading biopython-1.85-cp312-cp312-win_amd64.whl.metadata (13 kB)\n",
      "Requirement already satisfied: numpy in c:\\users\\annie\\anaconda3\\lib\\site-packages (from biopython) (1.26.4)\n",
      "Downloading biopython-1.85-cp312-cp312-win_amd64.whl (2.8 MB)\n",
      "   ---------------------------------------- 0.0/2.8 MB ? eta -:--:--\n",
      "   ---------------------------------------- 2.8/2.8 MB 32.8 MB/s eta 0:00:00\n",
      "Installing collected packages: biopython\n",
      "Successfully installed biopython-1.85\n",
      "Note: you may need to restart the kernel to use updated packages.\n"
     ]
    }
   ],
   "source": [
    "pip install biopython"
   ]
  },
  {
   "cell_type": "code",
   "execution_count": 1,
   "id": "0cde8810",
   "metadata": {},
   "outputs": [
    {
     "name": "stdout",
     "output_type": "stream",
     "text": [
      "Found 100 articles for query: 'Alzheimer's disease'\n"
     ]
    }
   ],
   "source": [
    "from Bio import Entrez\n",
    "from time import sleep\n",
    "\n",
    "# Set your email — this is required by NCBI\n",
    "Entrez.email = \"your_email@example.com\"\n",
    "\n",
    "def fetch_pubmed_abstracts(query, max_results=100):\n",
    "    # Search PubMed\n",
    "    handle = Entrez.esearch(db=\"pubmed\", term=query, retmax=max_results)\n",
    "    record = Entrez.read(handle)\n",
    "    handle.close()\n",
    "\n",
    "    id_list = record[\"IdList\"]\n",
    "    print(f\"Found {len(id_list)} articles for query: '{query}'\")\n",
    "\n",
    "    abstracts = []\n",
    "    for pmid in id_list:\n",
    "        try:\n",
    "            # Fetch article metadata\n",
    "            fetch_handle = Entrez.efetch(db=\"pubmed\", id=pmid, rettype=\"abstract\", retmode=\"text\")\n",
    "            abstract_text = fetch_handle.read()\n",
    "            abstracts.append((pmid, abstract_text))\n",
    "            fetch_handle.close()\n",
    "            sleep(0.5)  # Be kind to NCBI servers\n",
    "        except Exception as e:\n",
    "            print(f\"Error fetching PMID {pmid}: {e}\")\n",
    "            continue\n",
    "\n",
    "    return abstracts\n",
    "\n",
    "# Run the script\n",
    "query = \"Alzheimer's disease\"\n",
    "abstracts = fetch_pubmed_abstracts(query, max_results=100)\n",
    "\n",
    "# Save to file\n",
    "with open(\"alzheimers_pubmed_abstracts.txt\", \"w\", encoding=\"utf-8\") as f:\n",
    "    for pmid, abstract in abstracts:\n",
    "        f.write(f\"PMID: {pmid}\\n\")\n",
    "        f.write(abstract + \"\\n\\n\")\n"
   ]
  }
 ],
 "metadata": {
  "kernelspec": {
   "display_name": "base",
   "language": "python",
   "name": "python3"
  },
  "language_info": {
   "codemirror_mode": {
    "name": "ipython",
    "version": 3
   },
   "file_extension": ".py",
   "mimetype": "text/x-python",
   "name": "python",
   "nbconvert_exporter": "python",
   "pygments_lexer": "ipython3",
   "version": "3.12.4"
  }
 },
 "nbformat": 4,
 "nbformat_minor": 5
}

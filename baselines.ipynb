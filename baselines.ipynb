{
 "cells": [
  {
   "cell_type": "code",
   "execution_count": null,
   "id": "68cd5e36",
   "metadata": {},
   "outputs": [
    {
     "name": "stdout",
     "output_type": "stream",
     "text": [
      "TF-IDF + Logistic Regression Baseline Results:\n",
      "\n",
      "                 precision    recall  f1-score   support\n",
      "\n",
      "      ambiguous       0.57      0.89      0.70        18\n",
      "associated_with       1.00      0.54      0.70        13\n",
      "     equivalent       0.40      0.25      0.31         8\n",
      "      unrelated       1.00      0.50      0.67         2\n",
      "\n",
      "       accuracy                           0.63        41\n",
      "      macro avg       0.74      0.54      0.59        41\n",
      "   weighted avg       0.69      0.63      0.62        41\n",
      "\n"
     ]
    }
   ],
   "source": [
    "import pandas as pd\n",
    "from sklearn.model_selection import train_test_split\n",
    "from sklearn.preprocessing import LabelEncoder\n",
    "from sklearn.feature_extraction.text import TfidfVectorizer\n",
    "from sklearn.linear_model import LogisticRegression\n",
    "from sklearn.pipeline import Pipeline\n",
    "from sklearn.metrics import classification_report\n",
    "\n",
    "# Load dataset\n",
    "df = pd.read_csv(\"alz_disease_pairs_cleaned.csv\")\n",
    "\n",
    "# Clean missing values\n",
    "df = df.dropna(subset=[\"input_text\", \"relation_label\"])\n",
    "\n",
    "# Encode string labels into numeric class IDs\n",
    "label_encoder = LabelEncoder()\n",
    "df[\"label_id\"] = label_encoder.fit_transform(df[\"relation_label\"])\n",
    "\n",
    "# Prepare training and test data\n",
    "X = df[\"input_text\"]\n",
    "y = df[\"label_id\"]\n",
    "train_X, test_X, train_y, test_y = train_test_split(X, y, test_size=0.2, stratify=y, random_state=42)\n",
    "\n",
    "# Create the baseline model (TF-IDF + Logistic Regression)\n",
    "baseline_pipeline = Pipeline([\n",
    "    (\"tfidf\", TfidfVectorizer(ngram_range=(1, 2))),  # you can adjust n-grams here\n",
    "    (\"clf\", LogisticRegression(max_iter=1000, class_weight=\"balanced\"))  # balanced handles class imbalance\n",
    "])\n",
    "\n",
    "# Train the model\n",
    "baseline_pipeline.fit(train_X, train_y)\n",
    "\n",
    "# Predict and evaluate\n",
    "y_pred = baseline_pipeline.predict(test_X)\n",
    "report = classification_report(test_y, y_pred, target_names=label_encoder.classes_)\n",
    "\n",
    "# Print evaluation report\n",
    "print(\"TF-IDF + Logistic Regression Baseline Results:\\n\")\n",
    "print(report)\n"
   ]
  },
  {
   "cell_type": "markdown",
   "id": "092c94bf",
   "metadata": {},
   "source": [
    "# Avg. Embedding"
   ]
  },
  {
   "cell_type": "code",
   "execution_count": null,
   "id": "d5d1b503",
   "metadata": {},
   "outputs": [
    {
     "name": "stderr",
     "output_type": "stream",
     "text": [
      "[nltk_data] Downloading package punkt to\n",
      "[nltk_data]     C:\\Users\\Annie\\AppData\\Roaming\\nltk_data...\n",
      "[nltk_data]   Package punkt is already up-to-date!\n"
     ]
    },
    {
     "name": "stdout",
     "output_type": "stream",
     "text": [
      "🔽 Downloading GloVe...\n",
      "📦 Loading GloVe vectors...\n",
      "🧠 Averaging sentence embeddings...\n"
     ]
    },
    {
     "name": "stderr",
     "output_type": "stream",
     "text": [
      "100%|██████████| 201/201 [00:00<00:00, 4343.27it/s]"
     ]
    },
    {
     "name": "stdout",
     "output_type": "stream",
     "text": [
      "📊 Average Embedding Baseline Performance:\n",
      "\n",
      "                 precision    recall  f1-score   support\n",
      "\n",
      "      ambiguous       0.60      0.67      0.63        18\n",
      "associated_with       0.75      0.46      0.57        13\n",
      "     equivalent       0.36      0.50      0.42         8\n",
      "      unrelated       0.50      0.50      0.50         2\n",
      "\n",
      "       accuracy                           0.56        41\n",
      "      macro avg       0.55      0.53      0.53        41\n",
      "   weighted avg       0.60      0.56      0.57        41\n",
      "\n"
     ]
    },
    {
     "name": "stderr",
     "output_type": "stream",
     "text": [
      "\n"
     ]
    }
   ],
   "source": [
    "import os\n",
    "import zipfile\n",
    "import numpy as np\n",
    "import pandas as pd\n",
    "import requests\n",
    "from sklearn.model_selection import train_test_split\n",
    "from sklearn.linear_model import LogisticRegression\n",
    "from sklearn.metrics import classification_report\n",
    "from sklearn.preprocessing import LabelEncoder\n",
    "from tqdm import tqdm\n",
    "import nltk\n",
    "nltk.download('punkt')\n",
    "from nltk.tokenize import word_tokenize\n",
    "\n",
    "# Download GloVe embeddings\n",
    "if not os.path.exists(\"glove.6B.100d.txt\"):\n",
    "    print(\"🔽 Downloading GloVe...\")\n",
    "    url = \"http://nlp.stanford.edu/data/glove.6B.zip\"\n",
    "    r = requests.get(url)\n",
    "    with open(\"glove.zip\", \"wb\") as f:\n",
    "        f.write(r.content)\n",
    "    with zipfile.ZipFile(\"glove.zip\", \"r\") as zip_ref:\n",
    "        zip_ref.extract(\"glove.6B.100d.txt\")\n",
    "\n",
    "# Load GloVe into a dictionary\n",
    "print(\"📦 Loading GloVe vectors...\")\n",
    "embeddings = {}\n",
    "with open(\"glove.6B.100d.txt\", \"r\", encoding=\"utf-8\") as f:\n",
    "    for line in f:\n",
    "        parts = line.strip().split()\n",
    "        word = parts[0]\n",
    "        vector = np.array(parts[1:], dtype=np.float32)\n",
    "        embeddings[word] = vector\n",
    "\n",
    "EMBED_DIM = 100\n",
    "\n",
    "# Average embeddings for each sentence\n",
    "def average_embedding(text):\n",
    "    tokens = word_tokenize(text.lower())\n",
    "    valid_vecs = [embeddings[token] for token in tokens if token in embeddings]\n",
    "    if valid_vecs:\n",
    "        return np.mean(valid_vecs, axis=0)\n",
    "    else:\n",
    "        return np.zeros(EMBED_DIM)\n",
    "\n",
    "# Load your data\n",
    "df = pd.read_csv(\"alz_disease_pairs_cleaned.csv\").dropna(subset=[\"input_text\", \"relation_label\"])\n",
    "label_encoder = LabelEncoder()\n",
    "df[\"label_id\"] = label_encoder.fit_transform(df[\"relation_label\"])\n",
    "\n",
    "# Compute average embeddings\n",
    "print(\"🧠 Averaging sentence embeddings...\")\n",
    "X = np.vstack([average_embedding(text) for text in tqdm(df[\"input_text\"])])\n",
    "y = df[\"label_id\"].values\n",
    "\n",
    "# Train/test split\n",
    "train_X, test_X, train_y, test_y = train_test_split(X, y, stratify=y, test_size=0.2, random_state=42)\n",
    "\n",
    "# Train classifier\n",
    "clf = LogisticRegression(max_iter=1000, class_weight=\"balanced\")\n",
    "clf.fit(train_X, train_y)\n",
    "\n",
    "# Evaluate\n",
    "y_pred = clf.predict(test_X)\n",
    "print(\"📊 Average Embedding Baseline Performance:\\n\")\n",
    "print(classification_report(test_y, y_pred, target_names=label_encoder.classes_))\n"
   ]
  }
 ],
 "metadata": {
  "kernelspec": {
   "display_name": "base",
   "language": "python",
   "name": "python3"
  },
  "language_info": {
   "codemirror_mode": {
    "name": "ipython",
    "version": 3
   },
   "file_extension": ".py",
   "mimetype": "text/x-python",
   "name": "python",
   "nbconvert_exporter": "python",
   "pygments_lexer": "ipython3",
   "version": "3.12.4"
  }
 },
 "nbformat": 4,
 "nbformat_minor": 5
}
